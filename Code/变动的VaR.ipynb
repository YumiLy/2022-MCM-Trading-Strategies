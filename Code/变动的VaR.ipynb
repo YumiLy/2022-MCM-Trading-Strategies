{
 "cells": [
  {
   "cell_type": "code",
   "execution_count": 1,
   "id": "c3c2216a",
   "metadata": {},
   "outputs": [],
   "source": [
    "# -*- encoding: utf-8 -*-\n",
    "import pandas as pd\n",
    "import plotly.express as px\n",
    "import numpy as np\n",
    "import matplotlib.pyplot as plt\n",
    "import datetime as dt"
   ]
  },
  {
   "cell_type": "code",
   "execution_count": 2,
   "id": "33c4c904",
   "metadata": {},
   "outputs": [
    {
     "data": {
      "text/html": [
       "<div>\n",
       "<style scoped>\n",
       "    .dataframe tbody tr th:only-of-type {\n",
       "        vertical-align: middle;\n",
       "    }\n",
       "\n",
       "    .dataframe tbody tr th {\n",
       "        vertical-align: top;\n",
       "    }\n",
       "\n",
       "    .dataframe thead th {\n",
       "        text-align: right;\n",
       "    }\n",
       "</style>\n",
       "<table border=\"1\" class=\"dataframe\">\n",
       "  <thead>\n",
       "    <tr style=\"text-align: right;\">\n",
       "      <th>Asset</th>\n",
       "      <th>BCHAIN</th>\n",
       "      <th>GOLD</th>\n",
       "      <th>CASH</th>\n",
       "    </tr>\n",
       "    <tr>\n",
       "      <th>Date</th>\n",
       "      <th></th>\n",
       "      <th></th>\n",
       "      <th></th>\n",
       "    </tr>\n",
       "  </thead>\n",
       "  <tbody>\n",
       "    <tr>\n",
       "      <th>2016-09-12</th>\n",
       "      <td>609.67</td>\n",
       "      <td>1324.60</td>\n",
       "      <td>1.0</td>\n",
       "    </tr>\n",
       "    <tr>\n",
       "      <th>2016-09-13</th>\n",
       "      <td>610.92</td>\n",
       "      <td>1323.65</td>\n",
       "      <td>1.0</td>\n",
       "    </tr>\n",
       "    <tr>\n",
       "      <th>2016-09-14</th>\n",
       "      <td>608.82</td>\n",
       "      <td>1321.75</td>\n",
       "      <td>1.0</td>\n",
       "    </tr>\n",
       "    <tr>\n",
       "      <th>2016-09-15</th>\n",
       "      <td>610.38</td>\n",
       "      <td>1310.80</td>\n",
       "      <td>1.0</td>\n",
       "    </tr>\n",
       "    <tr>\n",
       "      <th>2016-09-16</th>\n",
       "      <td>609.11</td>\n",
       "      <td>1308.35</td>\n",
       "      <td>1.0</td>\n",
       "    </tr>\n",
       "  </tbody>\n",
       "</table>\n",
       "</div>"
      ],
      "text/plain": [
       "Asset       BCHAIN     GOLD  CASH\n",
       "Date                             \n",
       "2016-09-12  609.67  1324.60   1.0\n",
       "2016-09-13  610.92  1323.65   1.0\n",
       "2016-09-14  608.82  1321.75   1.0\n",
       "2016-09-15  610.38  1310.80   1.0\n",
       "2016-09-16  609.11  1308.35   1.0"
      ]
     },
     "execution_count": 2,
     "metadata": {},
     "output_type": "execute_result"
    }
   ],
   "source": [
    "# data preparing\n",
    "BCHAIN = pd.read_csv('BCHAIN-MKPRU.csv', header=0)\n",
    "GOLD = pd.read_csv('LBMA-GOLD.csv', header=0)\n",
    "# to datetime\n",
    "BCHAIN.Date = pd.to_datetime(BCHAIN.Date)\n",
    "GOLD.Date = pd.to_datetime(GOLD.Date)\n",
    "# merge\n",
    "df = pd.merge(BCHAIN, GOLD, how='inner',on='Date')\n",
    "df.columns = ['Date', 'BCHAIN', 'GOLD']\n",
    "df = df.set_index('Date').rename_axis('Asset', axis=1)\n",
    "# before fill\n",
    "df.GOLD = df.GOLD.fillna(method=\"ffill\")\n",
    "df = df.dropna()\n",
    "df['CASH'] = 1.0\n",
    "df.head()"
   ]
  },
  {
   "cell_type": "code",
   "execution_count": null,
   "id": "3fb64f80",
   "metadata": {},
   "outputs": [],
   "source": [
    "# Set the investment weights (I arbitrarily picked for example)\n",
    "weights = np.array([.2, .8, .0])\n",
    "\n",
    "# Set an initial investment level\n",
    "# initial_investment = 1000000\n",
    "initial_investment = 1000\n",
    "\n",
    "\n",
    "#From the closing prices, calculate periodic returns\n",
    "returns = df.pct_change()\n",
    "\n",
    "returns.tail()"
   ]
  }
 ],
 "metadata": {
  "kernelspec": {
   "display_name": "PyCharm (test1)",
   "language": "python",
   "name": "pycharm-86e388bf"
  },
  "language_info": {
   "codemirror_mode": {
    "name": "ipython",
    "version": 3
   },
   "file_extension": ".py",
   "mimetype": "text/x-python",
   "name": "python",
   "nbconvert_exporter": "python",
   "pygments_lexer": "ipython3",
   "version": "3.8.8"
  }
 },
 "nbformat": 4,
 "nbformat_minor": 5
}
