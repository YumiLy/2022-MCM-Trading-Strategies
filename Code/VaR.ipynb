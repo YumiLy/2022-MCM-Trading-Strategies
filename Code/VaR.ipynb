{
 "cells": [
  {
   "cell_type": "code",
   "execution_count": 1,
   "metadata": {},
   "outputs": [],
   "source": [
    "# -*- encoding: utf-8 -*-\n",
    "import pandas as pd\n",
    "import plotly.express as px\n",
    "import numpy as np\n",
    "import matplotlib.pyplot as plt\n",
    "import datetime as dt"
   ]
  },
  {
   "cell_type": "markdown",
   "metadata": {
    "pycharm": {
     "name": "#%%\n"
    }
   },
   "source": [
    "# data preparing"
   ]
  },
  {
   "cell_type": "code",
   "execution_count": 2,
   "metadata": {
    "pycharm": {
     "name": "#%%\n"
    }
   },
   "outputs": [],
   "source": [
    "# data preparing\n",
    "BCHAIN = pd.read_csv('BCHAIN-MKPRU.csv', header=0)\n",
    "GOLD = pd.read_csv('LBMA-GOLD.csv', header=0)\n",
    "# to datetime\n",
    "BCHAIN.Date = pd.to_datetime(BCHAIN.Date)\n",
    "GOLD.Date = pd.to_datetime(GOLD.Date)\n",
    "# merge\n",
    "df = pd.merge(BCHAIN, GOLD, how='inner',on='Date')\n",
    "df.columns = ['Date', 'BCHAIN', 'GOLD']\n",
    "df = df.set_index('Date').rename_axis('Asset', axis=1)\n",
    "# before fill\n",
    "df.GOLD = df.GOLD.fillna(method=\"ffill\")\n",
    "df = df.dropna()\n",
    "df['CASH'] = 1.0\n",
    "df.head()\n",
    "# df.to_csv('BCHAIN-GOLD_inner.csv')"
   ]
  },
  {
   "cell_type": "markdown",
   "metadata": {},
   "source": [
    "# 1) Calculate periodic returns of the stocks in the portfolio\n",
    ">https://www.interviewqs.com/blog/value-at-risk#:~:text=Calculating%20Value%20at%20Risk%20%28VaR%29%20of%20a%20stock,firm%20or%20portfolio%20over%20a%20specified%20time%20frame."
   ]
  },
  {
   "cell_type": "code",
   "execution_count": 3,
   "metadata": {
    "pycharm": {
     "name": "#%%\n"
    }
   },
   "outputs": [
    {
     "data": {
      "text/html": [
       "<div>\n",
       "<style scoped>\n",
       "    .dataframe tbody tr th:only-of-type {\n",
       "        vertical-align: middle;\n",
       "    }\n",
       "\n",
       "    .dataframe tbody tr th {\n",
       "        vertical-align: top;\n",
       "    }\n",
       "\n",
       "    .dataframe thead th {\n",
       "        text-align: right;\n",
       "    }\n",
       "</style>\n",
       "<table border=\"1\" class=\"dataframe\">\n",
       "  <thead>\n",
       "    <tr style=\"text-align: right;\">\n",
       "      <th>Asset</th>\n",
       "      <th>BCHAIN</th>\n",
       "      <th>GOLD</th>\n",
       "      <th>CASH</th>\n",
       "    </tr>\n",
       "    <tr>\n",
       "      <th>Date</th>\n",
       "      <th></th>\n",
       "      <th></th>\n",
       "      <th></th>\n",
       "    </tr>\n",
       "  </thead>\n",
       "  <tbody>\n",
       "    <tr>\n",
       "      <th>2021-09-06</th>\n",
       "      <td>0.049465</td>\n",
       "      <td>-0.001152</td>\n",
       "      <td>0.0</td>\n",
       "    </tr>\n",
       "    <tr>\n",
       "      <th>2021-09-07</th>\n",
       "      <td>0.017546</td>\n",
       "      <td>-0.010677</td>\n",
       "      <td>0.0</td>\n",
       "    </tr>\n",
       "    <tr>\n",
       "      <th>2021-09-08</th>\n",
       "      <td>-0.111399</td>\n",
       "      <td>-0.008962</td>\n",
       "      <td>0.0</td>\n",
       "    </tr>\n",
       "    <tr>\n",
       "      <th>2021-09-09</th>\n",
       "      <td>-0.015612</td>\n",
       "      <td>0.001260</td>\n",
       "      <td>0.0</td>\n",
       "    </tr>\n",
       "    <tr>\n",
       "      <th>2021-09-10</th>\n",
       "      <td>0.006300</td>\n",
       "      <td>0.003551</td>\n",
       "      <td>0.0</td>\n",
       "    </tr>\n",
       "  </tbody>\n",
       "</table>\n",
       "</div>"
      ],
      "text/plain": [
       "Asset         BCHAIN      GOLD  CASH\n",
       "Date                                \n",
       "2021-09-06  0.049465 -0.001152   0.0\n",
       "2021-09-07  0.017546 -0.010677   0.0\n",
       "2021-09-08 -0.111399 -0.008962   0.0\n",
       "2021-09-09 -0.015612  0.001260   0.0\n",
       "2021-09-10  0.006300  0.003551   0.0"
      ]
     },
     "execution_count": 3,
     "metadata": {},
     "output_type": "execute_result"
    }
   ],
   "source": [
    "# Set the investment weights (I arbitrarily picked for example)\n",
    "weights = np.array([.2, .8, .0])\n",
    "\n",
    "# Set an initial investment level\n",
    "# initial_investment = 1000000\n",
    "initial_investment = 1000\n",
    "\n",
    "\n",
    "#From the closing prices, calculate periodic returns\n",
    "returns = df.pct_change()\n",
    "\n",
    "returns.tail()"
   ]
  },
  {
   "cell_type": "markdown",
   "metadata": {},
   "source": [
    "# 2) Create a covariance matrix based on the returns"
   ]
  },
  {
   "cell_type": "code",
   "execution_count": 4,
   "metadata": {},
   "outputs": [
    {
     "data": {
      "text/html": [
       "<div>\n",
       "<style scoped>\n",
       "    .dataframe tbody tr th:only-of-type {\n",
       "        vertical-align: middle;\n",
       "    }\n",
       "\n",
       "    .dataframe tbody tr th {\n",
       "        vertical-align: top;\n",
       "    }\n",
       "\n",
       "    .dataframe thead th {\n",
       "        text-align: right;\n",
       "    }\n",
       "</style>\n",
       "<table border=\"1\" class=\"dataframe\">\n",
       "  <thead>\n",
       "    <tr style=\"text-align: right;\">\n",
       "      <th>Asset</th>\n",
       "      <th>BCHAIN</th>\n",
       "      <th>GOLD</th>\n",
       "      <th>CASH</th>\n",
       "    </tr>\n",
       "    <tr>\n",
       "      <th>Asset</th>\n",
       "      <th></th>\n",
       "      <th></th>\n",
       "      <th></th>\n",
       "    </tr>\n",
       "  </thead>\n",
       "  <tbody>\n",
       "    <tr>\n",
       "      <th>BCHAIN</th>\n",
       "      <td>0.002345</td>\n",
       "      <td>0.000019</td>\n",
       "      <td>0.0</td>\n",
       "    </tr>\n",
       "    <tr>\n",
       "      <th>GOLD</th>\n",
       "      <td>0.000019</td>\n",
       "      <td>0.000075</td>\n",
       "      <td>0.0</td>\n",
       "    </tr>\n",
       "    <tr>\n",
       "      <th>CASH</th>\n",
       "      <td>0.000000</td>\n",
       "      <td>0.000000</td>\n",
       "      <td>0.0</td>\n",
       "    </tr>\n",
       "  </tbody>\n",
       "</table>\n",
       "</div>"
      ],
      "text/plain": [
       "Asset     BCHAIN      GOLD  CASH\n",
       "Asset                           \n",
       "BCHAIN  0.002345  0.000019   0.0\n",
       "GOLD    0.000019  0.000075   0.0\n",
       "CASH    0.000000  0.000000   0.0"
      ]
     },
     "execution_count": 4,
     "metadata": {},
     "output_type": "execute_result"
    }
   ],
   "source": [
    "# Generate Var-Cov matrix\n",
    "cov_matrix = returns.cov()\n",
    "cov_matrix"
   ]
  },
  {
   "cell_type": "markdown",
   "metadata": {},
   "source": [
    "# 3) Calculate the portfolio mean and standard deviation"
   ]
  },
  {
   "cell_type": "code",
   "execution_count": 5,
   "metadata": {},
   "outputs": [],
   "source": [
    "# Calculate mean returns for each stock\n",
    "avg_rets = returns.mean()\n",
    " \n",
    "# Calculate mean returns for portfolio overall, \n",
    "# using dot product to \n",
    "# normalize individual means against investment weights\n",
    " # https://en.wikipedia.org/wiki/Dot_product#:~:targetText=In%20mathematics%2C%20the%20dot%20product,and%20returns%20a%20single%20number.\n",
    "port_mean = avg_rets.dot(weights)\n",
    " \n",
    "# Calculate portfolio standard deviation\n",
    "port_stdev = np.sqrt(weights.T.dot(cov_matrix).dot(weights))\n",
    " \n",
    "# Calculate mean of investment\n",
    "mean_investment = (1+port_mean) * initial_investment\n",
    "             \n",
    "# Calculate standard deviation of investmnet\n",
    "stdev_investment = initial_investment * port_stdev"
   ]
  },
  {
   "cell_type": "code",
   "execution_count": 6,
   "metadata": {},
   "outputs": [
    {
     "name": "stdout",
     "output_type": "stream",
     "text": [
      "0.0011455577288711101\n",
      "0.012156274330111698\n",
      "[0.2 0.8 0. ]\n",
      "Asset\n",
      "BCHAIN    0.004617\n",
      "GOLD      0.000278\n",
      "CASH      0.000000\n",
      "dtype: float64\n",
      "Asset\n",
      "BCHAIN    0.002345\n",
      "GOLD      0.000075\n",
      "CASH      0.000000\n",
      "dtype: float64\n"
     ]
    }
   ],
   "source": [
    "print(port_mean)\n",
    "print(port_stdev)\n",
    "print(weights)\n",
    "print(avg_rets)\n",
    "print(returns.var())"
   ]
  },
  {
   "cell_type": "markdown",
   "metadata": {},
   "source": [
    "# 4) Calculate the inverse of the normal cumulative distribution (PPF) with a specified confidence interval, standard deviation, and mean"
   ]
  },
  {
   "cell_type": "code",
   "execution_count": 7,
   "metadata": {},
   "outputs": [],
   "source": [
    "# Select our confidence interval (I'll choose 95% here)\n",
    "conf_level1 = 0.05\n",
    "\n",
    "# Using SciPy ppf method to generate values for the\n",
    "# inverse cumulative distribution function to a normal distribution\n",
    "# Plugging in the mean, standard deviation of our portfolio\n",
    "# as calculated above\n",
    "# https://docs.scipy.org/doc/scipy/reference/generated/scipy.stats.norm.html\n",
    "from scipy.stats import norm\n",
    "cutoff1 = norm.ppf(conf_level1, mean_investment, stdev_investment)\n",
    "\n",
    "# from scipy.stats import t\n",
    "# cutoff1 = t.ppf(conf_level1, mean_investment, stdev_investment)"
   ]
  },
  {
   "cell_type": "markdown",
   "metadata": {},
   "source": [
    "# 5) Estimate the value at risk (VaR) for the portfolio by subtracting the initial investment from the calculation in step 4"
   ]
  },
  {
   "cell_type": "code",
   "execution_count": 8,
   "metadata": {},
   "outputs": [
    {
     "data": {
      "text/plain": [
       "18.849734193230233"
      ]
     },
     "execution_count": 8,
     "metadata": {},
     "output_type": "execute_result"
    }
   ],
   "source": [
    "#Finally, we can calculate the VaR at our confidence interval\n",
    "var_1d1 = initial_investment - cutoff1\n",
    "var_1d1\n",
    "#output\n",
    "#22347.7792230231"
   ]
  },
  {
   "cell_type": "code",
   "execution_count": 9,
   "metadata": {},
   "outputs": [
    {
     "name": "stdout",
     "output_type": "stream",
     "text": [
      "1 day VaR @ 95% confidence: 18.85\n",
      "2 day VaR @ 95% confidence: 26.66\n",
      "3 day VaR @ 95% confidence: 32.65\n",
      "4 day VaR @ 95% confidence: 37.7\n",
      "5 day VaR @ 95% confidence: 42.15\n",
      "6 day VaR @ 95% confidence: 46.17\n",
      "7 day VaR @ 95% confidence: 49.87\n",
      "8 day VaR @ 95% confidence: 53.32\n",
      "9 day VaR @ 95% confidence: 56.55\n",
      "10 day VaR @ 95% confidence: 59.61\n",
      "11 day VaR @ 95% confidence: 62.52\n",
      "12 day VaR @ 95% confidence: 65.3\n",
      "13 day VaR @ 95% confidence: 67.96\n",
      "14 day VaR @ 95% confidence: 70.53\n",
      "15 day VaR @ 95% confidence: 73.0\n"
     ]
    },
    {
     "data": {
      "text/plain": [
       "[<matplotlib.lines.Line2D at 0x2497ef63430>]"
      ]
     },
     "execution_count": 9,
     "metadata": {},
     "output_type": "execute_result"
    },
    {
     "data": {
      "image/png": "[encoded data removed]",
      "text/plain": [
       "<Figure size 432x288 with 1 Axes>"
      ]
     },
     "metadata": {
      "needs_background": "light"
     },
     "output_type": "display_data"
    }
   ],
   "source": [
    "# Calculate n Day VaR\n",
    "var_array = []\n",
    "num_days = int(15)\n",
    "for x in range(1, num_days+1):    \n",
    "    var_array.append(np.round(var_1d1 * np.sqrt(x),2))\n",
    "    print(str(x) + \" day VaR @ 95% confidence: \" + str(np.round(var_1d1 * np.sqrt(x),2)))\n",
    "\n",
    "# Build plot\n",
    "plt.xlabel(\"Day #\")\n",
    "plt.ylabel(\"Max portfolio loss (USD)\")\n",
    "plt.title(\"Max portfolio loss (VaR) over 15-day period\")\n",
    "plt.plot(var_array, \"r\")"
   ]
  },
  {
   "cell_type": "markdown",
   "metadata": {},
   "source": [
    "(Extra) Checking distributions of our equities against normal distribution\n",
    "As mentioned in the calculation section, we are assuming that the returns of the equities in our portfolio are normally distributed when calculating VaR. Of course, we can't predict that moving forward, but we can at least check how the historical returns have been distributed to help us assess whether VaR is suitable to use for our portfolio."
   ]
  },
  {
   "cell_type": "code",
   "execution_count": 10,
   "metadata": {},
   "outputs": [
    {
     "data": {
      "image/png": "[encoded data removed]",
      "text/plain": [
       "<Figure size 432x288 with 1 Axes>"
      ]
     },
     "metadata": {
      "needs_background": "light"
     },
     "output_type": "display_data"
    }
   ],
   "source": [
    "import matplotlib.mlab as mlab\n",
    "import matplotlib.pyplot as plt\n",
    "import scipy\n",
    "# Repeat for each equity in portfolio\n",
    "returns['BCHAIN'].hist(bins=40, density=1, histtype=\"stepfilled\",alpha=0.5)\n",
    "x = np.linspace(port_mean - 3*port_stdev, port_mean+3*port_stdev,100)\n",
    "plt.plot(x, scipy.stats.norm.pdf(x, port_mean, port_stdev), \"r\")\n",
    "plt.title(\"BCHAIN returns (binned) vs. normal distribution\")\n",
    "plt.show()"
   ]
  },
  {
   "cell_type": "code",
   "execution_count": 11,
   "metadata": {},
   "outputs": [
    {
     "data": {
      "image/png": "[encoded data removed]",
      "text/plain": [
       "<Figure size 432x288 with 1 Axes>"
      ]
     },
     "metadata": {
      "needs_background": "light"
     },
     "output_type": "display_data"
    }
   ],
   "source": [
    "returns['GOLD'].hist(bins=40, density=1, histtype=\"stepfilled\",alpha=0.5)\n",
    "x = np.linspace(port_mean - 3*port_stdev, port_mean+3*port_stdev,100)\n",
    "plt.plot(x, scipy.stats.norm.pdf(x, port_mean, port_stdev), \"r\")\n",
    "plt.title(\"GOLD returns (binned) vs. normal distribution\")\n",
    "plt.show()"
   ]
  },
  {
   "cell_type": "code",
   "execution_count": 12,
   "metadata": {},
   "outputs": [
    {
     "data": {
      "image/png": "[encoded data removed]",
      "text/plain": [
       "<Figure size 432x288 with 1 Axes>"
      ]
     },
     "metadata": {
      "needs_background": "light"
     },
     "output_type": "display_data"
    }
   ],
   "source": [
    "returns['CASH'].hist(bins=40, density=1, histtype=\"stepfilled\",alpha=0.5)\n",
    "x = np.linspace(port_mean - 3*port_stdev, port_mean+3*port_stdev,100)\n",
    "plt.plot(x, scipy.stats.norm.pdf(x, port_mean, port_stdev), \"r\")\n",
    "plt.title(\"CASH returns (binned) vs. normal distribution\")\n",
    "plt.show()"
   ]
  },
  {
   "cell_type": "code",
   "execution_count": 12,
   "metadata": {},
   "outputs": [],
   "source": []
  }
 ],
 "metadata": {
  "kernelspec": {
   "display_name": "Python 3",
   "language": "python",
   "name": "python3"
  },
  "language_info": {
   "codemirror_mode": {
    "name": "ipython",
    "version": 3
   },
   "file_extension": ".py",
   "mimetype": "text/x-python",
   "name": "python",
   "nbconvert_exporter": "python",
   "pygments_lexer": "ipython3",
   "version": "3.8.8"
  }
 },
 "nbformat": 4,
 "nbformat_minor": 1
}